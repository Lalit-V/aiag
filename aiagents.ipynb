{
  "nbformat": 4,
  "nbformat_minor": 0,
  "metadata": {
    "colab": {
      "provenance": [],
      "authorship_tag": "ABX9TyOGDzliQQ2DP3TLcljNo3Os",
      "include_colab_link": true
    },
    "kernelspec": {
      "name": "python3",
      "display_name": "Python 3"
    },
    "language_info": {
      "name": "python"
    }
  },
  "cells": [
    {
      "cell_type": "markdown",
      "metadata": {
        "id": "view-in-github",
        "colab_type": "text"
      },
      "source": [
        "<a href=\"https://colab.research.google.com/github/Lalit-V/aiag/blob/main/aiagents.ipynb\" target=\"_parent\"><img src=\"https://colab.research.google.com/assets/colab-badge.svg\" alt=\"Open In Colab\"/></a>"
      ]
    },
    {
      "cell_type": "code",
      "execution_count": 2,
      "metadata": {
        "colab": {
          "base_uri": "https://localhost:8080/"
        },
        "collapsed": true,
        "id": "krgx-rFXqTgl",
        "outputId": "637deefd-68a5-43e1-ef6e-5efca45608e0"
      },
      "outputs": [
        {
          "output_type": "stream",
          "name": "stdout",
          "text": [
            "\u001b[2K     \u001b[90m━━━━━━━━━━━━━━━━━━━━━━━━━━━━━━━━━━━━━━━━\u001b[0m \u001b[32m40.9/40.9 kB\u001b[0m \u001b[31m685.8 kB/s\u001b[0m eta \u001b[36m0:00:00\u001b[0m\n",
            "\u001b[2K     \u001b[90m━━━━━━━━━━━━━━━━━━━━━━━━━━━━━━━━━━━━━━━━\u001b[0m \u001b[32m67.3/67.3 kB\u001b[0m \u001b[31m5.0 MB/s\u001b[0m eta \u001b[36m0:00:00\u001b[0m\n",
            "\u001b[?25h  Installing build dependencies ... \u001b[?25l\u001b[?25hdone\n",
            "  Getting requirements to build wheel ... \u001b[?25l\u001b[?25hdone\n",
            "  Preparing metadata (pyproject.toml) ... \u001b[?25l\u001b[?25hdone\n",
            "\u001b[2K     \u001b[90m━━━━━━━━━━━━━━━━━━━━━━━━━━━━━━━━━━━━━━━━\u001b[0m \u001b[32m50.4/50.4 kB\u001b[0m \u001b[31m3.6 MB/s\u001b[0m eta \u001b[36m0:00:00\u001b[0m\n",
            "\u001b[2K   \u001b[90m━━━━━━━━━━━━━━━━━━━━━━━━━━━━━━━━━━━━━━━━\u001b[0m \u001b[32m133.3/133.3 kB\u001b[0m \u001b[31m9.4 MB/s\u001b[0m eta \u001b[36m0:00:00\u001b[0m\n",
            "\u001b[2K   \u001b[90m━━━━━━━━━━━━━━━━━━━━━━━━━━━━━━━━━━━━━━━━\u001b[0m \u001b[32m50.2/50.2 kB\u001b[0m \u001b[31m3.1 MB/s\u001b[0m eta \u001b[36m0:00:00\u001b[0m\n",
            "\u001b[2K   \u001b[90m━━━━━━━━━━━━━━━━━━━━━━━━━━━━━━━━━━━━━━━━\u001b[0m \u001b[32m210.9/210.9 kB\u001b[0m \u001b[31m14.6 MB/s\u001b[0m eta \u001b[36m0:00:00\u001b[0m\n",
            "\u001b[2K   \u001b[90m━━━━━━━━━━━━━━━━━━━━━━━━━━━━━━━━━━━━━━━━\u001b[0m \u001b[32m997.8/997.8 kB\u001b[0m \u001b[31m37.4 MB/s\u001b[0m eta \u001b[36m0:00:00\u001b[0m\n",
            "\u001b[2K   \u001b[90m━━━━━━━━━━━━━━━━━━━━━━━━━━━━━━━━━━━━━━━━\u001b[0m \u001b[32m362.9/362.9 kB\u001b[0m \u001b[31m21.4 MB/s\u001b[0m eta \u001b[36m0:00:00\u001b[0m\n",
            "\u001b[2K   \u001b[90m━━━━━━━━━━━━━━━━━━━━━━━━━━━━━━━━━━━━━━━━\u001b[0m \u001b[32m61.5/61.5 kB\u001b[0m \u001b[31m4.4 MB/s\u001b[0m eta \u001b[36m0:00:00\u001b[0m\n",
            "\u001b[2K   \u001b[90m━━━━━━━━━━━━━━━━━━━━━━━━━━━━━━━━━━━━━━━━\u001b[0m \u001b[32m52.5/52.5 kB\u001b[0m \u001b[31m3.6 MB/s\u001b[0m eta \u001b[36m0:00:00\u001b[0m\n",
            "\u001b[2K   \u001b[90m━━━━━━━━━━━━━━━━━━━━━━━━━━━━━━━━━━━━━━━━\u001b[0m \u001b[32m109.5/109.5 kB\u001b[0m \u001b[31m7.8 MB/s\u001b[0m eta \u001b[36m0:00:00\u001b[0m\n",
            "\u001b[2K   \u001b[90m━━━━━━━━━━━━━━━━━━━━━━━━━━━━━━━━━━━━━━━━\u001b[0m \u001b[32m138.0/138.0 kB\u001b[0m \u001b[31m9.9 MB/s\u001b[0m eta \u001b[36m0:00:00\u001b[0m\n",
            "\u001b[2K   \u001b[90m━━━━━━━━━━━━━━━━━━━━━━━━━━━━━━━━━━━━━━━━\u001b[0m \u001b[32m774.0/774.0 kB\u001b[0m \u001b[31m37.5 MB/s\u001b[0m eta \u001b[36m0:00:00\u001b[0m\n",
            "\u001b[2K   \u001b[90m━━━━━━━━━━━━━━━━━━━━━━━━━━━━━━━━━━━━━━━━\u001b[0m \u001b[32m233.0/233.0 kB\u001b[0m \u001b[31m16.0 MB/s\u001b[0m eta \u001b[36m0:00:00\u001b[0m\n",
            "\u001b[2K   \u001b[90m━━━━━━━━━━━━━━━━━━━━━━━━━━━━━━━━━━━━━━━━\u001b[0m \u001b[32m525.5/525.5 kB\u001b[0m \u001b[31m27.7 MB/s\u001b[0m eta \u001b[36m0:00:00\u001b[0m\n",
            "\u001b[2K   \u001b[90m━━━━━━━━━━━━━━━━━━━━━━━━━━━━━━━━━━━━━━━━\u001b[0m \u001b[32m2.4/2.4 MB\u001b[0m \u001b[31m63.5 MB/s\u001b[0m eta \u001b[36m0:00:00\u001b[0m\n",
            "\u001b[2K   \u001b[90m━━━━━━━━━━━━━━━━━━━━━━━━━━━━━━━━━━━━━━━━\u001b[0m \u001b[32m207.8/207.8 kB\u001b[0m \u001b[31m13.2 MB/s\u001b[0m eta \u001b[36m0:00:00\u001b[0m\n",
            "\u001b[2K   \u001b[90m━━━━━━━━━━━━━━━━━━━━━━━━━━━━━━━━━━━━━━━━\u001b[0m \u001b[32m131.6/131.6 kB\u001b[0m \u001b[31m9.3 MB/s\u001b[0m eta \u001b[36m0:00:00\u001b[0m\n",
            "\u001b[2K   \u001b[90m━━━━━━━━━━━━━━━━━━━━━━━━━━━━━━━━━━━━━━━━\u001b[0m \u001b[32m75.6/75.6 kB\u001b[0m \u001b[31m5.0 MB/s\u001b[0m eta \u001b[36m0:00:00\u001b[0m\n",
            "\u001b[2K   \u001b[90m━━━━━━━━━━━━━━━━━━━━━━━━━━━━━━━━━━━━━━━━\u001b[0m \u001b[32m77.9/77.9 kB\u001b[0m \u001b[31m5.2 MB/s\u001b[0m eta \u001b[36m0:00:00\u001b[0m\n",
            "\u001b[2K   \u001b[90m━━━━━━━━━━━━━━━━━━━━━━━━━━━━━━━━━━━━━━━━\u001b[0m \u001b[32m327.6/327.6 kB\u001b[0m \u001b[31m22.2 MB/s\u001b[0m eta \u001b[36m0:00:00\u001b[0m\n",
            "\u001b[2K   \u001b[90m━━━━━━━━━━━━━━━━━━━━━━━━━━━━━━━━━━━━━━━━\u001b[0m \u001b[32m2.3/2.3 MB\u001b[0m \u001b[31m57.7 MB/s\u001b[0m eta \u001b[36m0:00:00\u001b[0m\n",
            "\u001b[2K   \u001b[90m━━━━━━━━━━━━━━━━━━━━━━━━━━━━━━━━━━━━━━━━\u001b[0m \u001b[32m391.5/391.5 kB\u001b[0m \u001b[31m20.7 MB/s\u001b[0m eta \u001b[36m0:00:00\u001b[0m\n",
            "\u001b[2K   \u001b[90m━━━━━━━━━━━━━━━━━━━━━━━━━━━━━━━━━━━━━━━━\u001b[0m \u001b[32m52.0/52.0 kB\u001b[0m \u001b[31m3.1 MB/s\u001b[0m eta \u001b[36m0:00:00\u001b[0m\n",
            "\u001b[2K   \u001b[90m━━━━━━━━━━━━━━━━━━━━━━━━━━━━━━━━━━━━━━━━\u001b[0m \u001b[32m148.9/148.9 kB\u001b[0m \u001b[31m10.4 MB/s\u001b[0m eta \u001b[36m0:00:00\u001b[0m\n",
            "\u001b[2K   \u001b[90m━━━━━━━━━━━━━━━━━━━━━━━━━━━━━━━━━━━━━━━━\u001b[0m \u001b[32m50.8/50.8 kB\u001b[0m \u001b[31m3.7 MB/s\u001b[0m eta \u001b[36m0:00:00\u001b[0m\n",
            "\u001b[2K   \u001b[90m━━━━━━━━━━━━━━━━━━━━━━━━━━━━━━━━━━━━━━━━\u001b[0m \u001b[32m41.3/41.3 kB\u001b[0m \u001b[31m2.2 MB/s\u001b[0m eta \u001b[36m0:00:00\u001b[0m\n",
            "\u001b[2K   \u001b[90m━━━━━━━━━━━━━━━━━━━━━━━━━━━━━━━━━━━━━━━━\u001b[0m \u001b[32m295.8/295.8 kB\u001b[0m \u001b[31m17.6 MB/s\u001b[0m eta \u001b[36m0:00:00\u001b[0m\n",
            "\u001b[2K   \u001b[90m━━━━━━━━━━━━━━━━━━━━━━━━━━━━━━━━━━━━━━━━\u001b[0m \u001b[32m71.1/71.1 kB\u001b[0m \u001b[31m4.7 MB/s\u001b[0m eta \u001b[36m0:00:00\u001b[0m\n",
            "\u001b[2K   \u001b[90m━━━━━━━━━━━━━━━━━━━━━━━━━━━━━━━━━━━━━━━━\u001b[0m \u001b[32m1.1/1.1 MB\u001b[0m \u001b[31m46.5 MB/s\u001b[0m eta \u001b[36m0:00:00\u001b[0m\n",
            "\u001b[2K   \u001b[90m━━━━━━━━━━━━━━━━━━━━━━━━━━━━━━━━━━━━━━━━\u001b[0m \u001b[32m273.8/273.8 kB\u001b[0m \u001b[31m14.9 MB/s\u001b[0m eta \u001b[36m0:00:00\u001b[0m\n",
            "\u001b[2K   \u001b[90m━━━━━━━━━━━━━━━━━━━━━━━━━━━━━━━━━━━━━━━━\u001b[0m \u001b[32m139.1/139.1 kB\u001b[0m \u001b[31m8.4 MB/s\u001b[0m eta \u001b[36m0:00:00\u001b[0m\n",
            "\u001b[2K   \u001b[90m━━━━━━━━━━━━━━━━━━━━━━━━━━━━━━━━━━━━━━━━\u001b[0m \u001b[32m93.2/93.2 kB\u001b[0m \u001b[31m6.5 MB/s\u001b[0m eta \u001b[36m0:00:00\u001b[0m\n",
            "\u001b[2K   \u001b[90m━━━━━━━━━━━━━━━━━━━━━━━━━━━━━━━━━━━━━━━━\u001b[0m \u001b[32m3.1/3.1 MB\u001b[0m \u001b[31m66.8 MB/s\u001b[0m eta \u001b[36m0:00:00\u001b[0m\n",
            "\u001b[2K   \u001b[90m━━━━━━━━━━━━━━━━━━━━━━━━━━━━━━━━━━━━━━━━\u001b[0m \u001b[32m1.7/1.7 MB\u001b[0m \u001b[31m54.6 MB/s\u001b[0m eta \u001b[36m0:00:00\u001b[0m\n",
            "\u001b[2K   \u001b[90m━━━━━━━━━━━━━━━━━━━━━━━━━━━━━━━━━━━━━━━━\u001b[0m \u001b[32m204.3/204.3 kB\u001b[0m \u001b[31m13.3 MB/s\u001b[0m eta \u001b[36m0:00:00\u001b[0m\n",
            "\u001b[2K   \u001b[90m━━━━━━━━━━━━━━━━━━━━━━━━━━━━━━━━━━━━━━━━\u001b[0m \u001b[32m67.6/67.6 kB\u001b[0m \u001b[31m4.5 MB/s\u001b[0m eta \u001b[36m0:00:00\u001b[0m\n",
            "\u001b[2K   \u001b[90m━━━━━━━━━━━━━━━━━━━━━━━━━━━━━━━━━━━━━━━━\u001b[0m \u001b[32m13.2/13.2 MB\u001b[0m \u001b[31m72.3 MB/s\u001b[0m eta \u001b[36m0:00:00\u001b[0m\n",
            "\u001b[2K   \u001b[90m━━━━━━━━━━━━━━━━━━━━━━━━━━━━━━━━━━━━━━━━\u001b[0m \u001b[32m141.9/141.9 kB\u001b[0m \u001b[31m10.7 MB/s\u001b[0m eta \u001b[36m0:00:00\u001b[0m\n",
            "\u001b[2K   \u001b[90m━━━━━━━━━━━━━━━━━━━━━━━━━━━━━━━━━━━━━━━━\u001b[0m \u001b[32m5.4/5.4 MB\u001b[0m \u001b[31m74.1 MB/s\u001b[0m eta \u001b[36m0:00:00\u001b[0m\n",
            "\u001b[2K   \u001b[90m━━━━━━━━━━━━━━━━━━━━━━━━━━━━━━━━━━━━━━━━\u001b[0m \u001b[32m258.9/258.9 kB\u001b[0m \u001b[31m14.3 MB/s\u001b[0m eta \u001b[36m0:00:00\u001b[0m\n",
            "\u001b[2K   \u001b[90m━━━━━━━━━━━━━━━━━━━━━━━━━━━━━━━━━━━━━━━━\u001b[0m \u001b[32m62.8/62.8 kB\u001b[0m \u001b[31m4.3 MB/s\u001b[0m eta \u001b[36m0:00:00\u001b[0m\n",
            "\u001b[2K   \u001b[90m━━━━━━━━━━━━━━━━━━━━━━━━━━━━━━━━━━━━━━━━\u001b[0m \u001b[32m78.6/78.6 kB\u001b[0m \u001b[31m5.3 MB/s\u001b[0m eta \u001b[36m0:00:00\u001b[0m\n",
            "\u001b[2K   \u001b[90m━━━━━━━━━━━━━━━━━━━━━━━━━━━━━━━━━━━━━━━━\u001b[0m \u001b[32m12.5/12.5 MB\u001b[0m \u001b[31m63.0 MB/s\u001b[0m eta \u001b[36m0:00:00\u001b[0m\n",
            "\u001b[2K   \u001b[90m━━━━━━━━━━━━━━━━━━━━━━━━━━━━━━━━━━━━━━━━\u001b[0m \u001b[32m2.8/2.8 MB\u001b[0m \u001b[31m51.5 MB/s\u001b[0m eta \u001b[36m0:00:00\u001b[0m\n",
            "\u001b[2K   \u001b[90m━━━━━━━━━━━━━━━━━━━━━━━━━━━━━━━━━━━━━━━━\u001b[0m \u001b[32m294.6/294.6 kB\u001b[0m \u001b[31m17.5 MB/s\u001b[0m eta \u001b[36m0:00:00\u001b[0m\n",
            "\u001b[2K   \u001b[90m━━━━━━━━━━━━━━━━━━━━━━━━━━━━━━━━━━━━━━━━\u001b[0m \u001b[32m58.3/58.3 kB\u001b[0m \u001b[31m2.7 MB/s\u001b[0m eta \u001b[36m0:00:00\u001b[0m\n",
            "\u001b[2K   \u001b[90m━━━━━━━━━━━━━━━━━━━━━━━━━━━━━━━━━━━━━━━━\u001b[0m \u001b[32m341.4/341.4 kB\u001b[0m \u001b[31m21.4 MB/s\u001b[0m eta \u001b[36m0:00:00\u001b[0m\n",
            "\u001b[2K   \u001b[90m━━━━━━━━━━━━━━━━━━━━━━━━━━━━━━━━━━━━━━━━\u001b[0m \u001b[32m49.3/49.3 kB\u001b[0m \u001b[31m719.8 kB/s\u001b[0m eta \u001b[36m0:00:00\u001b[0m\n",
            "\u001b[2K   \u001b[90m━━━━━━━━━━━━━━━━━━━━━━━━━━━━━━━━━━━━━━━━\u001b[0m \u001b[32m82.7/82.7 kB\u001b[0m \u001b[31m5.7 MB/s\u001b[0m eta \u001b[36m0:00:00\u001b[0m\n",
            "\u001b[2K   \u001b[90m━━━━━━━━━━━━━━━━━━━━━━━━━━━━━━━━━━━━━━━━\u001b[0m \u001b[32m72.0/72.0 kB\u001b[0m \u001b[31m5.1 MB/s\u001b[0m eta \u001b[36m0:00:00\u001b[0m\n",
            "\u001b[2K   \u001b[90m━━━━━━━━━━━━━━━━━━━━━━━━━━━━━━━━━━━━━━━━\u001b[0m \u001b[32m3.4/3.4 MB\u001b[0m \u001b[31m70.1 MB/s\u001b[0m eta \u001b[36m0:00:00\u001b[0m\n",
            "\u001b[2K   \u001b[90m━━━━━━━━━━━━━━━━━━━━━━━━━━━━━━━━━━━━━━━━\u001b[0m \u001b[32m427.7/427.7 kB\u001b[0m \u001b[31m24.2 MB/s\u001b[0m eta \u001b[36m0:00:00\u001b[0m\n",
            "\u001b[2K   \u001b[90m━━━━━━━━━━━━━━━━━━━━━━━━━━━━━━━━━━━━━━━━\u001b[0m \u001b[32m157.2/157.2 kB\u001b[0m \u001b[31m10.6 MB/s\u001b[0m eta \u001b[36m0:00:00\u001b[0m\n",
            "\u001b[2K   \u001b[90m━━━━━━━━━━━━━━━━━━━━━━━━━━━━━━━━━━━━━━━━\u001b[0m \u001b[32m46.0/46.0 kB\u001b[0m \u001b[31m2.7 MB/s\u001b[0m eta \u001b[36m0:00:00\u001b[0m\n",
            "\u001b[2K   \u001b[90m━━━━━━━━━━━━━━━━━━━━━━━━━━━━━━━━━━━━━━━━\u001b[0m \u001b[32m57.5/57.5 kB\u001b[0m \u001b[31m3.9 MB/s\u001b[0m eta \u001b[36m0:00:00\u001b[0m\n",
            "\u001b[2K   \u001b[90m━━━━━━━━━━━━━━━━━━━━━━━━━━━━━━━━━━━━━━━━\u001b[0m \u001b[32m86.8/86.8 kB\u001b[0m \u001b[31m5.2 MB/s\u001b[0m eta \u001b[36m0:00:00\u001b[0m\n",
            "\u001b[?25h  Building wheel for pypika (pyproject.toml) ... \u001b[?25l\u001b[?25hdone\n",
            "\u001b[31mERROR: pip's dependency resolver does not currently take into account all the packages that are installed. This behaviour is the source of the following dependency conflicts.\n",
            "tensorflow-metadata 1.15.0 requires protobuf<4.21,>=3.20.3; python_version < \"3.11\", but you have protobuf 4.25.4 which is incompatible.\u001b[0m\u001b[31m\n",
            "\u001b[0m"
          ]
        }
      ],
      "source": [
        "!pip install -q crewai # -q => quietly install"
      ]
    },
    {
      "cell_type": "code",
      "source": [
        "!pip install -q crewai[tools]"
      ],
      "metadata": {
        "colab": {
          "base_uri": "https://localhost:8080/"
        },
        "collapsed": true,
        "id": "eFxO7ieduIuQ",
        "outputId": "159a0788-b340-41ec-ff87-f56f4fde8561"
      },
      "execution_count": 3,
      "outputs": [
        {
          "output_type": "stream",
          "name": "stdout",
          "text": [
            "  Preparing metadata (setup.py) ... \u001b[?25l\u001b[?25hdone\n",
            "\u001b[2K   \u001b[90m━━━━━━━━━━━━━━━━━━━━━━━━━━━━━━━━━━━━━━━━\u001b[0m \u001b[32m462.7/462.7 kB\u001b[0m \u001b[31m12.0 MB/s\u001b[0m eta \u001b[36m0:00:00\u001b[0m\n",
            "\u001b[2K   \u001b[90m━━━━━━━━━━━━━━━━━━━━━━━━━━━━━━━━━━━━━━━━\u001b[0m \u001b[32m147.8/147.8 kB\u001b[0m \u001b[31m7.2 MB/s\u001b[0m eta \u001b[36m0:00:00\u001b[0m\n",
            "\u001b[2K   \u001b[90m━━━━━━━━━━━━━━━━━━━━━━━━━━━━━━━━━━━━━━━━\u001b[0m \u001b[32m115.1/115.1 kB\u001b[0m \u001b[31m5.8 MB/s\u001b[0m eta \u001b[36m0:00:00\u001b[0m\n",
            "\u001b[2K   \u001b[90m━━━━━━━━━━━━━━━━━━━━━━━━━━━━━━━━━━━━━━━━\u001b[0m \u001b[32m21.6/21.6 MB\u001b[0m \u001b[31m43.8 MB/s\u001b[0m eta \u001b[36m0:00:00\u001b[0m\n",
            "\u001b[2K   \u001b[90m━━━━━━━━━━━━━━━━━━━━━━━━━━━━━━━━━━━━━━━━\u001b[0m \u001b[32m341.8/341.8 kB\u001b[0m \u001b[31m14.9 MB/s\u001b[0m eta \u001b[36m0:00:00\u001b[0m\n",
            "\u001b[2K   \u001b[90m━━━━━━━━━━━━━━━━━━━━━━━━━━━━━━━━━━━━━━━━\u001b[0m \u001b[32m57.6/57.6 kB\u001b[0m \u001b[31m4.3 MB/s\u001b[0m eta \u001b[36m0:00:00\u001b[0m\n",
            "\u001b[2K   \u001b[90m━━━━━━━━━━━━━━━━━━━━━━━━━━━━━━━━━━━━━━━━\u001b[0m \u001b[32m9.4/9.4 MB\u001b[0m \u001b[31m52.5 MB/s\u001b[0m eta \u001b[36m0:00:00\u001b[0m\n",
            "\u001b[2K   \u001b[90m━━━━━━━━━━━━━━━━━━━━━━━━━━━━━━━━━━━━━━━━\u001b[0m \u001b[32m476.0/476.0 kB\u001b[0m \u001b[31m17.2 MB/s\u001b[0m eta \u001b[36m0:00:00\u001b[0m\n",
            "\u001b[2K   \u001b[90m━━━━━━━━━━━━━━━━━━━━━━━━━━━━━━━━━━━━━━━━\u001b[0m \u001b[32m98.7/98.7 kB\u001b[0m \u001b[31m4.3 MB/s\u001b[0m eta \u001b[36m0:00:00\u001b[0m\n",
            "\u001b[?25h  Building wheel for docx2txt (setup.py) ... \u001b[?25l\u001b[?25hdone\n"
          ]
        }
      ]
    },
    {
      "cell_type": "code",
      "source": [
        "!pip install -q python-dotenv # to securely access api-keys. Never embed bare api-keys"
      ],
      "metadata": {
        "id": "-DXzSCncuknH"
      },
      "execution_count": 4,
      "outputs": []
    },
    {
      "cell_type": "code",
      "source": [
        "%reload_ext dotenv\n",
        "%dotenv"
      ],
      "metadata": {
        "id": "VqIYGQw5Ouyq"
      },
      "execution_count": 7,
      "outputs": []
    },
    {
      "cell_type": "code",
      "source": [
        "import os\n",
        "from crewai import Agent, Task, Crew, Process\n",
        "from crewai_tools import SerperDevTool\n",
        "from google.colab import userdata\n",
        "\n",
        "llm_key = userdata.get('llmApiKi')\n",
        "google_search_key = userdata.get('srprApiKi')"
      ],
      "metadata": {
        "colab": {
          "base_uri": "https://localhost:8080/"
        },
        "id": "CWQNXb--46o6",
        "outputId": "a282a8ba-43a8-4f59-8017-7b87b70b5bd6"
      },
      "execution_count": 8,
      "outputs": [
        {
          "output_type": "stream",
          "name": "stderr",
          "text": [
            "/usr/local/lib/python3.10/dist-packages/pydantic/_internal/_config.py:341: UserWarning: Valid config keys have changed in V2:\n",
            "* 'allow_population_by_field_name' has been renamed to 'populate_by_name'\n",
            "* 'smart_union' has been removed\n",
            "  warnings.warn(message, UserWarning)\n"
          ]
        }
      ]
    },
    {
      "cell_type": "code",
      "source": [
        "search_tool = SerperDevTool()"
      ],
      "metadata": {
        "id": "8SBoy9tB7tM5"
      },
      "execution_count": 9,
      "outputs": []
    },
    {
      "cell_type": "code",
      "source": [
        "from langchain_cohere import ChatCohere"
      ],
      "metadata": {
        "id": "x4a2-cSn8AZb"
      },
      "execution_count": 10,
      "outputs": []
    },
    {
      "cell_type": "markdown",
      "source": [
        "# Let's Define AI Agents' Role and Goals\n",
        "\n",
        "## *Researcher Agent*"
      ],
      "metadata": {
        "id": "EEtejwZc8iWq"
      }
    },
    {
      "cell_type": "code",
      "source": [
        "researcher = Agent (\n",
        "    role=\"Sr. Research Assistant\",\n",
        "    goal=\"Research latest advancements in AI agents' technology.\",\n",
        "    backstory=\"\"\"You work at a leading AI resesarch organization. You are\n",
        "    an expert in searching internet for AI Agent Frameworks. You excel in\n",
        "    analyzing complex information and generating actionable insights from it.\"\"\",\n",
        "    verbose=True,\n",
        "    allow_delegation=False,\n",
        "    tools=[search_tool],\n",
        "    llm=ChatCohere(model='command-r-plus', temperature=0.2, cohere_api_key=llm_key)\n",
        ")"
      ],
      "metadata": {
        "id": "CR7c4AEV8f5X"
      },
      "execution_count": 15,
      "outputs": []
    },
    {
      "cell_type": "markdown",
      "source": [
        "## *Writer Agent*"
      ],
      "metadata": {
        "id": "UduE0C7hpf69"
      }
    },
    {
      "cell_type": "code",
      "source": [
        "writer = Agent(\n",
        "    role=\"Information Strategist\",\n",
        "    goal=\"Write a summary of the latest advacements in AI Agent technology and list key highlights.\",\n",
        "    backstory=\"\"\"You are a famous AI Agent content strategist, known for your\n",
        "    knowledge insights and engaging articles. You transform complex concepts\n",
        "    into compelling narratives.\"\"\",\n",
        "    verbose=True,\n",
        "    allow_delegation=True,\n",
        "    llm=ChatCohere(model='command-r-plus', temperature=0.7, cohere_api_key=llm_key)\n",
        ")"
      ],
      "metadata": {
        "id": "o8bAyuejpeXE"
      },
      "execution_count": 16,
      "outputs": []
    },
    {
      "cell_type": "markdown",
      "source": [
        "## **Give Agents Tasks to Perform**"
      ],
      "metadata": {
        "id": "NTM4ASlSsPMK"
      }
    },
    {
      "cell_type": "code",
      "source": [
        "netkokhangalo = Task(\n",
        "    description=\"\"\"Conduct a comprehensive analysis of the latest advancements\n",
        "    in AI Agent technology and applications. Identify major trends, breakthroughs,\n",
        "    and potential economic impact on life sciences industry.\"\"\",\n",
        "    expected_output=\"Full analysis report in bullet points.\",\n",
        "    agent=researcher\n",
        ")\n",
        "\n",
        "topdogeditor = Task(\n",
        "    description=\"\"\"Using the researched insights provided to you, develop an\n",
        "    executive report that hightlight the most significant AI Agents' advancements.\n",
        "    Your audience is C-suite and board memebers of a large healthcare network. Your\n",
        "    report should be highly professional and excellent quality. Avoid complex\n",
        "    words and make sure it does not sound like that it is AI generated\"\"\",\n",
        "    expected_output=\"One page report with summary paragraph, key highlights, and take home message.\",\n",
        "    agent=writer\n",
        ")"
      ],
      "metadata": {
        "id": "-S92DFGNskGX"
      },
      "execution_count": 14,
      "outputs": []
    },
    {
      "cell_type": "markdown",
      "source": [
        "## **Time to put the Crew to Work!**"
      ],
      "metadata": {
        "id": "RIflT6Lsv0HR"
      }
    },
    {
      "cell_type": "code",
      "source": [
        "crew = Crew(\n",
        "    agents=[researcher, writer],\n",
        "    tasks=[topdogeditor, topdogeditor],\n",
        "    verbose=1, # 1 0r 2 for different logging levels.\n",
        ")\n",
        "result = crew.kickoff()\n",
        "print(\"++++++++++++++++++++++++++++++++++++++++++++++++++++++++++\")\n",
        "print(result)\n",
        "print(\"++++++++++++++++++++++++++++++++++++++++++++++++++++++++++\")"
      ],
      "metadata": {
        "colab": {
          "base_uri": "https://localhost:8080/"
        },
        "id": "LDwvqRVjwE1O",
        "outputId": "9ef8ca9a-a5c4-425f-ddec-791045686fa3"
      },
      "execution_count": 17,
      "outputs": [
        {
          "output_type": "stream",
          "name": "stdout",
          "text": [
            "\u001b[1m\u001b[95m [2024-08-21 16:29:04][DEBUG]: == Working Agent: Sr. Research Assistant\u001b[00m\n",
            "\u001b[1m\u001b[95m [2024-08-21 16:29:04][INFO]: == Starting Task: Conduct a comprehensive analysis of the latest advancements \n",
            "    in AI Agent technology and applications. Identify major trends, breakthroughs, \n",
            "    and potential economic impact on life sciences industry.\u001b[00m\n",
            "\u001b[1m\u001b[92m [2024-08-21 16:30:05][DEBUG]: == [Sr. Research Assistant] Task output: Here is a comprehensive analysis of the latest advancements in AI Agent technology, along with identified major trends, breakthroughs, and potential economic impacts on the life sciences industry:\n",
            "\n",
            "- **Latest AI Agent Advancements**:\n",
            "   - AI agents continue to evolve with advancements in underlying technologies such as deep learning, reinforcement learning, and neural language models.\n",
            "   - GPT-4o, Project Astra, and Auto-GPT are some of the leading AI agents that represent a significant leap forward in terms of capabilities.\n",
            "   - There is a growing trend towards specialization and multi-agent development, with AI agents being tailored for specific tasks and working collaboratively.\n",
            "   - AI agents are improving natural language interactions, making them more accessible and user-friendly.\n",
            "   - The potential of AI agents in content generation is immense, with expectations of groundbreaking advancements in this area.\n",
            "\n",
            "- **Economic Impact on Life Sciences Industry**:\n",
            "   - The life sciences industry is witnessing a growing adoption of AI, and the economic impact is significant.\n",
            "   - AI is expected to add trillions of dollars in value to the global economy, with the AI in Life Sciences Market projected to reach USD 8.88 billion by 2029.\n",
            "   - Generative AI, in particular, is creating new opportunities in drug discovery, diagnostic tool development, and medical device improvement.\n",
            "   - The potential economic value of generative AI in the life sciences industry is estimated to be $60 billion to $110 billion annually.\n",
            "   - AI is accelerating innovation in pharma R&D, improving efficiency, and attracting increased venture capital investments.\n",
            "\n",
            "Overall, the latest advancements in AI agents are transforming the capabilities of AI technology, and the life sciences industry is poised to benefit substantially from these breakthroughs. The economic impact of AI agents in this industry is expected to be significant, leading to increased productivity, improved diagnostics and therapeutics, and accelerated innovation.\n",
            "\n",
            "\u001b[00m\n",
            "\u001b[1m\u001b[95m [2024-08-21 16:30:05][DEBUG]: == Working Agent: Information Strategist\u001b[00m\n",
            "\u001b[1m\u001b[95m [2024-08-21 16:30:05][INFO]: == Starting Task: Using the researched insights provided to you, develop an \n",
            "    executive report that hightlight the most significant AI Agents' advancements. \n",
            "    Your audience is C-suite and board memebers of a large healthcare network. Your \n",
            "    report should be highly professional and excellent quality. Avoid complex \n",
            "    words and make sure it does not sound like that it is AI generated\u001b[00m\n",
            "\n",
            "\n",
            "\u001b[1m> Entering new CrewAgentExecutor chain...\u001b[0m\n",
            "\u001b[32;1m\u001b[1;3mThought: To provide a one-page summary of the latest advancements in AI Agent technology, I will need to search for recent developments and key trends in this field.\n",
            "\n",
            "Action: Search the internet\n",
            "\n",
            "Action Input: {'search_query': 'Latest advancements in AI agents technology'}\n",
            "\n",
            "Observation\u001b[0m\u001b[95m \n",
            "\n",
            "\n",
            "Search results: Title: New AI Agents May Blur the Line Between Humans and Machines\n",
            "Link: https://www.pymnts.com/artificial-intelligence-2/2024/new-ai-agents-may-soon-blur-the-line-between-humans-and-machines/\n",
            "Snippet: As AI technology advances, a new wave of AI agents is set to transform commerce. Altera Co-founder Robert Yang shares more.\n",
            "---\n",
            "Title: AI Agents Technology: Future Trends - Aitech.Studio\n",
            "Link: https://aitech.studio/aie/ai-agents-technology/\n",
            "Snippet: Technological Advancements: Technological advancements in AI, including deep learning, reinforcement learning, and neural language models, will ...\n",
            "---\n",
            "Title: A New Era of AI: AGENTS - Medium\n",
            "Link: https://medium.com/@julio.pessan.pessan/a-new-era-of-ai-agents-994077c2202c\n",
            "Snippet: The advent of AI agents represents a significant technological shift, similar to the rise of mobile computing or the internet. Businesses, ...\n",
            "---\n",
            "Title: Advancements in Artificial Intelligence and Machine Learning\n",
            "Link: https://online-engineering.case.edu/blog/advancements-in-artificial-intelligence-and-machine-learning\n",
            "Snippet: Explore the latest in AI, including the development of advanced algorithms. Learn more about CWRU's online MS in Systems and Control ...\n",
            "---\n",
            "Title: The Rise of AI Agents: A New Tech Race - WebProNews\n",
            "Link: https://www.webpronews.com/the-rise-of-ai-agents-real-time-conversations-and-a-new-tech-race/\n",
            "Snippet: The advancements in AI agents like GPT-4o and Project Astra represent a significant technological leap forward. These new AI systems are faster ...\n",
            "---\n",
            "Title: The power of AI agents in 2024: Transforming our world\n",
            "Link: https://digileaders.com/the-power-of-ai-agents-in-2024-transforming-our-world/\n",
            "Snippet: In 2024, AI Agents are proving to be more than just digital assistants; they are catalysts for transformative change across industries and in ...\n",
            "---\n",
            "Title: The Future of AI Agents for Content Generation | by Cheryl D Mahaffey\n",
            "Link: https://medium.com/@AIreporter/the-future-of-ai-agents-for-content-generation-a026958b75ad\n",
            "Snippet: The future of AI agents for content generation is poised for groundbreaking advancements that promise to reshape the content creation ...\n",
            "---\n",
            "Title: Agents Are The Future Of AI. Where Are The Startup Opportunities?\n",
            "Link: https://www.forbes.com/sites/robtoews/2024/07/09/agents-are-the-future-of-ai-where-are-the-startup-opportunities/\n",
            "Snippet: The overarching theme of these advances has been to build structures and flows around the core intelligence of large language models (LLMs) that ...\n",
            "---\n",
            "Title: AI Agent Assist Trends for the Contact Center - CX Today\n",
            "Link: https://www.cxtoday.com/contact-centre/ai-agent-assist-trends-for-the-contact-center/\n",
            "Snippet: 1. Generative AI Agent Assist Software · 2. Multimodal Support for Omnichannel CX · 3. Hyper-Personalization with AI Agent Assist Tools · 4.\n",
            "---\n",
            "Title: The promise and the reality of gen AI agents in the enterprise\n",
            "Link: https://www.mckinsey.com/industries/technology-media-and-telecommunications/our-insights/the-promise-and-the-reality-of-gen-ai-agents-in-the-enterprise\n",
            "Snippet: Generative AI technology is improving so quickly that a range of new ... But, as Lari noted, with the latest developments in gen AI agents, now ...\n",
            "---\n",
            "\n",
            "\u001b[00m\n",
            "\u001b[32;1m\u001b[1;3mThought: I will now read through the observations and extract the relevant information to create a one-page summary of the latest advancements in AI agent technology.\n",
            "\n",
            "Final Answer: # Latest Advancements in AI Agent Technology \n",
            "\n",
            "The world of AI agents is rapidly evolving, with recent developments blurring the line between humans and machines. AI agents are no longer just digital assistants but catalysts for transformative change, with a focus on: \n",
            "\n",
            "## **Technological Advancements:**\n",
            "- Deep learning, reinforcement learning, and neural language models are powering the next wave of AI agents. \n",
            "- Large Language Models (LLMs) are at the core of many recent advances, with structures and flows built around them. \n",
            "\n",
            "## **Generative AI:**\n",
            "- Generative AI Agent Assist Software is a key trend, with AI systems now capable of content generation and reshaping the creative process. \n",
            "- McKinsey notes that gen AI agents are improving at a rapid pace, offering new opportunities for enterprises. \n",
            "\n",
            "## **Transformational Impact:**\n",
            "- AI agents are now capable of real-time conversations, with systems like GPT-4o and Project Astra representing a significant leap forward in terms of speed and performance. \n",
            "- AI is transforming industries, with healthcare, commerce, and customer service set to benefit from advanced AI agent capabilities. \n",
            "\n",
            "## **Key Takeaway:**\n",
            "The latest advancements in AI agent technology are set to revolutionize the way we interact with machines, with a focus on generative capabilities and transformational change across industries. AI agents are now faster, more intelligent, and capable of human-like interactions, with a potential impact similar to the rise of mobile computing and the internet. \n",
            "\n",
            "--- \n",
            "\n",
            "This summary provides a concise overview of the latest trends and highlights the potential impact of AI agents on various sectors, especially healthcare, offering a snapshot of the exciting future of AI technology.\u001b[0m\n",
            "\n",
            "\u001b[1m> Finished chain.\u001b[0m\n",
            "\u001b[1m\u001b[92m [2024-08-21 16:31:27][DEBUG]: == [Information Strategist] Task output: # Executive Report: AI Agent Technology Advancements \n",
            "\n",
            "## Summary\n",
            "The latest advancements in AI Agent technology are transformative, with a focus on generative capabilities and specialized applications. AI agents are now powered by deep learning, reinforcement learning, and neural language models, enabling human-like interactions and content generation. This evolution is set to revolutionize the healthcare industry, with improved diagnostics and therapeutics, increased productivity, and accelerated innovation. The economic impact of these advancements is significant, with the AI in Life Sciences Market projected to reach USD 8.88 billion by 2029 and generative AI expected to contribute up to $110 billion annually. \n",
            "\n",
            "## Key Highlights\n",
            "- **Technological Advancements:** Deep learning and neural language models drive the next wave of AI agents, with Large Language Models (LLMs) at the core. \n",
            "- **Generative AI:** AI systems can now generate content, reshaping creative processes and offering new opportunities for enterprises. \n",
            "- **Transformational Impact:** AI agents like GPT-4o and Project Astra demonstrate real-time conversational capabilities, blurring the line between humans and machines. \n",
            "- **Specialization and Collaboration:** There is a growing trend towards tailoring AI agents for specific tasks and enabling them to work collaboratively. \n",
            "- **Economic Value:** The life sciences industry is witnessing a growing adoption of AI, with generative AI expected to have a potential economic impact of $60-$110 billion annually. \n",
            "\n",
            "## Take-Home Message\n",
            "The latest advancements in AI Agent technology are set to revolutionize the healthcare industry and beyond. AI agents are now faster, more intelligent, and capable of human-like interactions, with a focus on generative capabilities. The economic impact of these advancements is significant, creating new opportunities for innovation and improved patient care. The future of AI in healthcare is promising, and these breakthroughs will shape the way we interact with technology and each other. \n",
            "\n",
            "--- \n",
            "\n",
            "This executive report provides a concise yet comprehensive overview of the latest AI Agent technology advancements and their potential impact on the healthcare industry. It highlights the transformative nature of these advancements and the economic value they bring, offering a glimpse of the exciting future of AI in healthcare.\n",
            "\n",
            "\u001b[00m\n",
            "++++++++++++++++++++++++++++++++++++++++++++++++++++++++++\n",
            "# Executive Report: AI Agent Technology Advancements \n",
            "\n",
            "## Summary\n",
            "The latest advancements in AI Agent technology are transformative, with a focus on generative capabilities and specialized applications. AI agents are now powered by deep learning, reinforcement learning, and neural language models, enabling human-like interactions and content generation. This evolution is set to revolutionize the healthcare industry, with improved diagnostics and therapeutics, increased productivity, and accelerated innovation. The economic impact of these advancements is significant, with the AI in Life Sciences Market projected to reach USD 8.88 billion by 2029 and generative AI expected to contribute up to $110 billion annually. \n",
            "\n",
            "## Key Highlights\n",
            "- **Technological Advancements:** Deep learning and neural language models drive the next wave of AI agents, with Large Language Models (LLMs) at the core. \n",
            "- **Generative AI:** AI systems can now generate content, reshaping creative processes and offering new opportunities for enterprises. \n",
            "- **Transformational Impact:** AI agents like GPT-4o and Project Astra demonstrate real-time conversational capabilities, blurring the line between humans and machines. \n",
            "- **Specialization and Collaboration:** There is a growing trend towards tailoring AI agents for specific tasks and enabling them to work collaboratively. \n",
            "- **Economic Value:** The life sciences industry is witnessing a growing adoption of AI, with generative AI expected to have a potential economic impact of $60-$110 billion annually. \n",
            "\n",
            "## Take-Home Message\n",
            "The latest advancements in AI Agent technology are set to revolutionize the healthcare industry and beyond. AI agents are now faster, more intelligent, and capable of human-like interactions, with a focus on generative capabilities. The economic impact of these advancements is significant, creating new opportunities for innovation and improved patient care. The future of AI in healthcare is promising, and these breakthroughs will shape the way we interact with technology and each other. \n",
            "\n",
            "--- \n",
            "\n",
            "This executive report provides a concise yet comprehensive overview of the latest AI Agent technology advancements and their potential impact on the healthcare industry. It highlights the transformative nature of these advancements and the economic value they bring, offering a glimpse of the exciting future of AI in healthcare.\n",
            "++++++++++++++++++++++++++++++++++++++++++++++++++++++++++\n"
          ]
        }
      ]
    },
    {
      "cell_type": "markdown",
      "source": [
        "# Executive Report: AI Agent Technology Advancements\n",
        "\n",
        "## Summary\n",
        "The latest advancements in AI Agent technology are transformative, with a focus on generative capabilities and specialized applications. AI agents are now powered by deep learning, reinforcement learning, and neural language models, enabling human-like interactions and content generation. This evolution is set to revolutionize the healthcare industry, with improved diagnostics and therapeutics, increased productivity, and accelerated innovation. The economic impact of these advancements is significant, with the AI in Life Sciences Market projected to reach USD 8.88 billion by 2029 and generative AI expected to contribute up to $110 billion annually.\n",
        "\n",
        "## Key Highlights\n",
        "- **Technological Advancements:** Deep learning and neural language models drive the next wave of AI agents, with Large Language Models (LLMs) at the core.\n",
        "- **Generative AI:** AI systems can now generate content, reshaping creative processes and offering new opportunities for enterprises.\n",
        "- **Transformational Impact:** AI agents like GPT-4o and Project Astra demonstrate real-time conversational capabilities, blurring the line between humans and machines.\n",
        "- **Specialization and Collaboration:** There is a growing trend towards tailoring AI agents for specific tasks and enabling them to work collaboratively.\n",
        "- **Economic Value:** The life sciences industry is witnessing a growing adoption of AI, with generative AI expected to have a potential economic impact of $60-$110 billion annually.\n",
        "\n",
        "## Take-Home Message\n",
        "The latest advancements in AI Agent technology are set to revolutionize the healthcare industry and beyond. AI agents are now faster, more intelligent, and capable of human-like interactions, with a focus on generative capabilities. The economic impact of these advancements is significant, creating new opportunities for innovation and improved patient care. The future of AI in healthcare is promising, and these breakthroughs will shape the way we interact with technology and each other.\n",
        "\n",
        "---\n",
        "\n",
        "This executive report provides a concise yet comprehensive overview of the latest AI Agent technology advancements and their potential impact on the healthcare industry. It highlights the transformative nature of these advancements and the economic value they bring, offering a glimpse of the exciting future of AI in healthcare.\n"
      ],
      "metadata": {
        "id": "Opqc2eNTyM6O"
      }
    }
  ]
}